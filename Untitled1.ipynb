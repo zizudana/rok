{
  "nbformat": 4,
  "nbformat_minor": 0,
  "metadata": {
    "colab": {
      "name": "Untitled0.ipynb",
      "provenance": [],
      "mount_file_id": "1I1IMRmdyNdDRBIOPxGhbe0G4KKvYc7Xn",
      "authorship_tag": "ABX9TyPQods5imbX9/OihH/rrLGx",
      "include_colab_link": true
    },
    "kernelspec": {
      "name": "python3",
      "display_name": "Python 3"
    },
    "language_info": {
      "name": "python"
    }
  },
  "cells": [
    {
      "cell_type": "markdown",
      "metadata": {
        "id": "view-in-github",
        "colab_type": "text"
      },
      "source": [
        "<a href=\"https://colab.research.google.com/github/zizudana/rok/blob/master/Untitled1.ipynb\" target=\"_parent\"><img src=\"https://colab.research.google.com/assets/colab-badge.svg\" alt=\"Open In Colab\"/></a>"
      ]
    },
    {
      "cell_type": "code",
      "metadata": {
        "colab": {
          "base_uri": "https://localhost:8080/"
        },
        "id": "LhgrJzvNd_cY",
        "outputId": "c0aa9112-3ae6-4858-b4f4-328672278425"
      },
      "source": [
        "from google.colab import drive\n",
        "drive.mount('/content/drive')"
      ],
      "execution_count": 1,
      "outputs": [
        {
          "output_type": "stream",
          "text": [
            "Drive already mounted at /content/drive; to attempt to forcibly remount, call drive.mount(\"/content/drive\", force_remount=True).\n"
          ],
          "name": "stdout"
        }
      ]
    },
    {
      "cell_type": "code",
      "metadata": {
        "id": "CeO-fa9ietuQ"
      },
      "source": [
        "import pandas as pd\n",
        "import numpy as np\n",
        "import matplotlib.pyplot as plt\n",
        "# %matplotlib inline\n",
        "\n",
        "\n",
        "\n",
        "file_path = \"/content/drive/MyDrive/ROK_RUBY/ruby_data.csv\"\n",
        "ruby_df = pd.read_csv(file_path, names = ['day', 'dif'])\n",
        "\n",
        "ruby_train_df = ruby_df.iloc[:21]"
      ],
      "execution_count": 2,
      "outputs": []
    },
    {
      "cell_type": "code",
      "metadata": {
        "colab": {
          "base_uri": "https://localhost:8080/"
        },
        "id": "sZxaOMYXfI2Z",
        "outputId": "34a40fe3-4f39-4844-b7e9-366f60ea905d"
      },
      "source": [
        "ruby_train_df['day'] = pd.to_datetime(ruby_train_df['day'])"
      ],
      "execution_count": 3,
      "outputs": [
        {
          "output_type": "stream",
          "text": [
            "/usr/local/lib/python3.7/dist-packages/ipykernel_launcher.py:1: SettingWithCopyWarning: \n",
            "A value is trying to be set on a copy of a slice from a DataFrame.\n",
            "Try using .loc[row_indexer,col_indexer] = value instead\n",
            "\n",
            "See the caveats in the documentation: https://pandas.pydata.org/pandas-docs/stable/user_guide/indexing.html#returning-a-view-versus-a-copy\n",
            "  \"\"\"Entry point for launching an IPython kernel.\n"
          ],
          "name": "stderr"
        }
      ]
    },
    {
      "cell_type": "code",
      "metadata": {
        "id": "N89ag4AohrFI"
      },
      "source": [
        "ruby_train_df.index = ruby_train_df['day']\n",
        "ruby_train_df.set_index('day', inplace=True)"
      ],
      "execution_count": 4,
      "outputs": []
    },
    {
      "cell_type": "code",
      "metadata": {
        "colab": {
          "base_uri": "https://localhost:8080/",
          "height": 726
        },
        "id": "2kBBmruchuPX",
        "outputId": "c6495f5b-cf19-4549-eb6f-0d6f2400204d"
      },
      "source": [
        "ruby_train_df"
      ],
      "execution_count": 5,
      "outputs": [
        {
          "output_type": "execute_result",
          "data": {
            "text/html": [
              "<div>\n",
              "<style scoped>\n",
              "    .dataframe tbody tr th:only-of-type {\n",
              "        vertical-align: middle;\n",
              "    }\n",
              "\n",
              "    .dataframe tbody tr th {\n",
              "        vertical-align: top;\n",
              "    }\n",
              "\n",
              "    .dataframe thead th {\n",
              "        text-align: right;\n",
              "    }\n",
              "</style>\n",
              "<table border=\"1\" class=\"dataframe\">\n",
              "  <thead>\n",
              "    <tr style=\"text-align: right;\">\n",
              "      <th></th>\n",
              "      <th>dif</th>\n",
              "    </tr>\n",
              "    <tr>\n",
              "      <th>day</th>\n",
              "      <th></th>\n",
              "    </tr>\n",
              "  </thead>\n",
              "  <tbody>\n",
              "    <tr>\n",
              "      <th>2021-01-01</th>\n",
              "      <td>78</td>\n",
              "    </tr>\n",
              "    <tr>\n",
              "      <th>2021-01-02</th>\n",
              "      <td>78</td>\n",
              "    </tr>\n",
              "    <tr>\n",
              "      <th>2021-01-03</th>\n",
              "      <td>21</td>\n",
              "    </tr>\n",
              "    <tr>\n",
              "      <th>2021-01-04</th>\n",
              "      <td>21</td>\n",
              "    </tr>\n",
              "    <tr>\n",
              "      <th>2021-01-05</th>\n",
              "      <td>47</td>\n",
              "    </tr>\n",
              "    <tr>\n",
              "      <th>2021-01-06</th>\n",
              "      <td>30</td>\n",
              "    </tr>\n",
              "    <tr>\n",
              "      <th>2021-01-07</th>\n",
              "      <td>92</td>\n",
              "    </tr>\n",
              "    <tr>\n",
              "      <th>2021-01-08</th>\n",
              "      <td>71</td>\n",
              "    </tr>\n",
              "    <tr>\n",
              "      <th>2021-01-09</th>\n",
              "      <td>69</td>\n",
              "    </tr>\n",
              "    <tr>\n",
              "      <th>2021-01-10</th>\n",
              "      <td>38</td>\n",
              "    </tr>\n",
              "    <tr>\n",
              "      <th>2021-01-11</th>\n",
              "      <td>55</td>\n",
              "    </tr>\n",
              "    <tr>\n",
              "      <th>2021-01-12</th>\n",
              "      <td>56</td>\n",
              "    </tr>\n",
              "    <tr>\n",
              "      <th>2021-01-13</th>\n",
              "      <td>35</td>\n",
              "    </tr>\n",
              "    <tr>\n",
              "      <th>2021-01-14</th>\n",
              "      <td>42</td>\n",
              "    </tr>\n",
              "    <tr>\n",
              "      <th>2021-01-15</th>\n",
              "      <td>36</td>\n",
              "    </tr>\n",
              "    <tr>\n",
              "      <th>2021-01-16</th>\n",
              "      <td>41</td>\n",
              "    </tr>\n",
              "    <tr>\n",
              "      <th>2021-01-17</th>\n",
              "      <td>28</td>\n",
              "    </tr>\n",
              "    <tr>\n",
              "      <th>2021-01-18</th>\n",
              "      <td>42</td>\n",
              "    </tr>\n",
              "    <tr>\n",
              "      <th>2021-01-19</th>\n",
              "      <td>56</td>\n",
              "    </tr>\n",
              "    <tr>\n",
              "      <th>2021-01-20</th>\n",
              "      <td>42</td>\n",
              "    </tr>\n",
              "    <tr>\n",
              "      <th>2021-01-21</th>\n",
              "      <td>28</td>\n",
              "    </tr>\n",
              "  </tbody>\n",
              "</table>\n",
              "</div>"
            ],
            "text/plain": [
              "            dif\n",
              "day            \n",
              "2021-01-01   78\n",
              "2021-01-02   78\n",
              "2021-01-03   21\n",
              "2021-01-04   21\n",
              "2021-01-05   47\n",
              "2021-01-06   30\n",
              "2021-01-07   92\n",
              "2021-01-08   71\n",
              "2021-01-09   69\n",
              "2021-01-10   38\n",
              "2021-01-11   55\n",
              "2021-01-12   56\n",
              "2021-01-13   35\n",
              "2021-01-14   42\n",
              "2021-01-15   36\n",
              "2021-01-16   41\n",
              "2021-01-17   28\n",
              "2021-01-18   42\n",
              "2021-01-19   56\n",
              "2021-01-20   42\n",
              "2021-01-21   28"
            ]
          },
          "metadata": {
            "tags": []
          },
          "execution_count": 5
        }
      ]
    },
    {
      "cell_type": "code",
      "metadata": {
        "colab": {
          "base_uri": "https://localhost:8080/",
          "height": 303
        },
        "id": "W_af3QFch8O3",
        "outputId": "95f8c597-ad71-420d-9ffa-0feb3a38b16e"
      },
      "source": [
        "ruby_train_df.plot()\n",
        "plt.show()"
      ],
      "execution_count": 6,
      "outputs": [
        {
          "output_type": "display_data",
          "data": {
            "image/png": "[encoded data removed]",
            "text/plain": [
              "<Figure size 432x288 with 1 Axes>"
            ]
          },
          "metadata": {
            "tags": [],
            "needs_background": "light"
          }
        }
      ]
    },
    {
      "cell_type": "code",
      "metadata": {
        "colab": {
          "base_uri": "https://localhost:8080/",
          "height": 529
        },
        "id": "0Q3NYR_CAXJs",
        "outputId": "bcd4ddbc-3ebe-421f-bd4e-b41a632c4247"
      },
      "source": [
        "!pip install pmdarima"
      ],
      "execution_count": 100,
      "outputs": [
        {
          "output_type": "stream",
          "text": [
            "Collecting pmdarima\n",
            "  Downloading pmdarima-1.8.2-cp37-cp37m-manylinux1_x86_64.whl (1.5 MB)\n",
            "\u001b[?25l\r\u001b[K     |▎                               | 10 kB 24.6 MB/s eta 0:00:01\r\u001b[K     |▌                               | 20 kB 25.4 MB/s eta 0:00:01\r\u001b[K     |▊                               | 30 kB 30.8 MB/s eta 0:00:01\r\u001b[K     |█                               | 40 kB 24.3 MB/s eta 0:00:01\r\u001b[K     |█▏                              | 51 kB 10.9 MB/s eta 0:00:01\r\u001b[K     |█▍                              | 61 kB 11.9 MB/s eta 0:00:01\r\u001b[K     |█▋                              | 71 kB 10.6 MB/s eta 0:00:01\r\u001b[K     |█▉                              | 81 kB 10.5 MB/s eta 0:00:01\r\u001b[K     |██                              | 92 kB 10.9 MB/s eta 0:00:01\r\u001b[K     |██▎                             | 102 kB 9.6 MB/s eta 0:00:01\r\u001b[K     |██▌                             | 112 kB 9.6 MB/s eta 0:00:01\r\u001b[K     |██▊                             | 122 kB 9.6 MB/s eta 0:00:01\r\u001b[K     |███                             | 133 kB 9.6 MB/s eta 0:00:01\r\u001b[K     |███▏                            | 143 kB 9.6 MB/s eta 0:00:01\r\u001b[K     |███▍                            | 153 kB 9.6 MB/s eta 0:00:01\r\u001b[K     |███▋                            | 163 kB 9.6 MB/s eta 0:00:01\r\u001b[K     |███▉                            | 174 kB 9.6 MB/s eta 0:00:01\r\u001b[K     |████                            | 184 kB 9.6 MB/s eta 0:00:01\r\u001b[K     |████▎                           | 194 kB 9.6 MB/s eta 0:00:01\r\u001b[K     |████▌                           | 204 kB 9.6 MB/s eta 0:00:01\r\u001b[K     |████▊                           | 215 kB 9.6 MB/s eta 0:00:01\r\u001b[K     |█████                           | 225 kB 9.6 MB/s eta 0:00:01\r\u001b[K     |█████▏                          | 235 kB 9.6 MB/s eta 0:00:01\r\u001b[K     |█████▍                          | 245 kB 9.6 MB/s eta 0:00:01\r\u001b[K     |█████▋                          | 256 kB 9.6 MB/s eta 0:00:01\r\u001b[K     |█████▉                          | 266 kB 9.6 MB/s eta 0:00:01\r\u001b[K     |██████                          | 276 kB 9.6 MB/s eta 0:00:01\r\u001b[K     |██████▎                         | 286 kB 9.6 MB/s eta 0:00:01\r\u001b[K     |██████▌                         | 296 kB 9.6 MB/s eta 0:00:01\r\u001b[K     |██████▊                         | 307 kB 9.6 MB/s eta 0:00:01\r\u001b[K     |███████                         | 317 kB 9.6 MB/s eta 0:00:01\r\u001b[K     |███████▏                        | 327 kB 9.6 MB/s eta 0:00:01\r\u001b[K     |███████▍                        | 337 kB 9.6 MB/s eta 0:00:01\r\u001b[K     |███████▋                        | 348 kB 9.6 MB/s eta 0:00:01\r\u001b[K     |███████▉                        | 358 kB 9.6 MB/s eta 0:00:01\r\u001b[K     |████████                        | 368 kB 9.6 MB/s eta 0:00:01\r\u001b[K     |████████▎                       | 378 kB 9.6 MB/s eta 0:00:01\r\u001b[K     |████████▌                       | 389 kB 9.6 MB/s eta 0:00:01\r\u001b[K     |████████▊                       | 399 kB 9.6 MB/s eta 0:00:01\r\u001b[K     |█████████                       | 409 kB 9.6 MB/s eta 0:00:01\r\u001b[K     |█████████▎                      | 419 kB 9.6 MB/s eta 0:00:01\r\u001b[K     |█████████▌                      | 430 kB 9.6 MB/s eta 0:00:01\r\u001b[K     |█████████▊                      | 440 kB 9.6 MB/s eta 0:00:01\r\u001b[K     |██████████                      | 450 kB 9.6 MB/s eta 0:00:01\r\u001b[K     |██████████▏                     | 460 kB 9.6 MB/s eta 0:00:01\r\u001b[K     |██████████▍                     | 471 kB 9.6 MB/s eta 0:00:01\r\u001b[K     |██████████▋                     | 481 kB 9.6 MB/s eta 0:00:01\r\u001b[K     |██████████▉                     | 491 kB 9.6 MB/s eta 0:00:01\r\u001b[K     |███████████                     | 501 kB 9.6 MB/s eta 0:00:01\r\u001b[K     |███████████▎                    | 512 kB 9.6 MB/s eta 0:00:01\r\u001b[K     |███████████▌                    | 522 kB 9.6 MB/s eta 0:00:01\r\u001b[K     |███████████▊                    | 532 kB 9.6 MB/s eta 0:00:01\r\u001b[K     |████████████                    | 542 kB 9.6 MB/s eta 0:00:01\r\u001b[K     |████████████▏                   | 552 kB 9.6 MB/s eta 0:00:01\r\u001b[K     |████████████▍                   | 563 kB 9.6 MB/s eta 0:00:01\r\u001b[K     |████████████▋                   | 573 kB 9.6 MB/s eta 0:00:01\r\u001b[K     |████████████▉                   | 583 kB 9.6 MB/s eta 0:00:01\r\u001b[K     |█████████████                   | 593 kB 9.6 MB/s eta 0:00:01\r\u001b[K     |█████████████▎                  | 604 kB 9.6 MB/s eta 0:00:01\r\u001b[K     |█████████████▌                  | 614 kB 9.6 MB/s eta 0:00:01\r\u001b[K     |█████████████▊                  | 624 kB 9.6 MB/s eta 0:00:01\r\u001b[K     |██████████████                  | 634 kB 9.6 MB/s eta 0:00:01\r\u001b[K     |██████████████▏                 | 645 kB 9.6 MB/s eta 0:00:01\r\u001b[K     |██████████████▍                 | 655 kB 9.6 MB/s eta 0:00:01\r\u001b[K     |██████████████▋                 | 665 kB 9.6 MB/s eta 0:00:01\r\u001b[K     |██████████████▉                 | 675 kB 9.6 MB/s eta 0:00:01\r\u001b[K     |███████████████                 | 686 kB 9.6 MB/s eta 0:00:01\r\u001b[K     |███████████████▎                | 696 kB 9.6 MB/s eta 0:00:01\r\u001b[K     |███████████████▌                | 706 kB 9.6 MB/s eta 0:00:01\r\u001b[K     |███████████████▊                | 716 kB 9.6 MB/s eta 0:00:01\r\u001b[K     |████████████████                | 727 kB 9.6 MB/s eta 0:00:01\r\u001b[K     |████████████████▏               | 737 kB 9.6 MB/s eta 0:00:01\r\u001b[K     |████████████████▍               | 747 kB 9.6 MB/s eta 0:00:01\r\u001b[K     |████████████████▋               | 757 kB 9.6 MB/s eta 0:00:01\r\u001b[K     |████████████████▉               | 768 kB 9.6 MB/s eta 0:00:01\r\u001b[K     |█████████████████               | 778 kB 9.6 MB/s eta 0:00:01\r\u001b[K     |█████████████████▎              | 788 kB 9.6 MB/s eta 0:00:01\r\u001b[K     |█████████████████▌              | 798 kB 9.6 MB/s eta 0:00:01\r\u001b[K     |█████████████████▊              | 808 kB 9.6 MB/s eta 0:00:01\r\u001b[K     |██████████████████              | 819 kB 9.6 MB/s eta 0:00:01\r\u001b[K     |██████████████████▎             | 829 kB 9.6 MB/s eta 0:00:01\r\u001b[K     |██████████████████▌             | 839 kB 9.6 MB/s eta 0:00:01\r\u001b[K     |██████████████████▊             | 849 kB 9.6 MB/s eta 0:00:01\r\u001b[K     |███████████████████             | 860 kB 9.6 MB/s eta 0:00:01\r\u001b[K     |███████████████████▏            | 870 kB 9.6 MB/s eta 0:00:01\r\u001b[K     |███████████████████▍            | 880 kB 9.6 MB/s eta 0:00:01\r\u001b[K     |███████████████████▋            | 890 kB 9.6 MB/s eta 0:00:01\r\u001b[K     |███████████████████▉            | 901 kB 9.6 MB/s eta 0:00:01\r\u001b[K     |████████████████████            | 911 kB 9.6 MB/s eta 0:00:01\r\u001b[K     |████████████████████▎           | 921 kB 9.6 MB/s eta 0:00:01\r\u001b[K     |████████████████████▌           | 931 kB 9.6 MB/s eta 0:00:01\r\u001b[K     |████████████████████▊           | 942 kB 9.6 MB/s eta 0:00:01\r\u001b[K     |█████████████████████           | 952 kB 9.6 MB/s eta 0:00:01\r\u001b[K     |█████████████████████▏          | 962 kB 9.6 MB/s eta 0:00:01\r\u001b[K     |█████████████████████▍          | 972 kB 9.6 MB/s eta 0:00:01\r\u001b[K     |█████████████████████▋          | 983 kB 9.6 MB/s eta 0:00:01\r\u001b[K     |█████████████████████▉          | 993 kB 9.6 MB/s eta 0:00:01\r\u001b[K     |██████████████████████          | 1.0 MB 9.6 MB/s eta 0:00:01\r\u001b[K     |██████████████████████▎         | 1.0 MB 9.6 MB/s eta 0:00:01\r\u001b[K     |██████████████████████▌         | 1.0 MB 9.6 MB/s eta 0:00:01\r\u001b[K     |██████████████████████▊         | 1.0 MB 9.6 MB/s eta 0:00:01\r\u001b[K     |███████████████████████         | 1.0 MB 9.6 MB/s eta 0:00:01\r\u001b[K     |███████████████████████▏        | 1.1 MB 9.6 MB/s eta 0:00:01\r\u001b[K     |███████████████████████▍        | 1.1 MB 9.6 MB/s eta 0:00:01\r\u001b[K     |███████████████████████▋        | 1.1 MB 9.6 MB/s eta 0:00:01\r\u001b[K     |███████████████████████▉        | 1.1 MB 9.6 MB/s eta 0:00:01\r\u001b[K     |████████████████████████        | 1.1 MB 9.6 MB/s eta 0:00:01\r\u001b[K     |████████████████████████▎       | 1.1 MB 9.6 MB/s eta 0:00:01\r\u001b[K     |████████████████████████▌       | 1.1 MB 9.6 MB/s eta 0:00:01\r\u001b[K     |████████████████████████▊       | 1.1 MB 9.6 MB/s eta 0:00:01\r\u001b[K     |█████████████████████████       | 1.1 MB 9.6 MB/s eta 0:00:01\r\u001b[K     |█████████████████████████▏      | 1.1 MB 9.6 MB/s eta 0:00:01\r\u001b[K     |█████████████████████████▍      | 1.2 MB 9.6 MB/s eta 0:00:01\r\u001b[K     |█████████████████████████▋      | 1.2 MB 9.6 MB/s eta 0:00:01\r\u001b[K     |█████████████████████████▉      | 1.2 MB 9.6 MB/s eta 0:00:01\r\u001b[K     |██████████████████████████      | 1.2 MB 9.6 MB/s eta 0:00:01\r\u001b[K     |██████████████████████████▎     | 1.2 MB 9.6 MB/s eta 0:00:01\r\u001b[K     |██████████████████████████▌     | 1.2 MB 9.6 MB/s eta 0:00:01\r\u001b[K     |██████████████████████████▊     | 1.2 MB 9.6 MB/s eta 0:00:01\r\u001b[K     |███████████████████████████     | 1.2 MB 9.6 MB/s eta 0:00:01\r\u001b[K     |███████████████████████████▎    | 1.2 MB 9.6 MB/s eta 0:00:01\r\u001b[K     |███████████████████████████▌    | 1.2 MB 9.6 MB/s eta 0:00:01\r\u001b[K     |███████████████████████████▊    | 1.3 MB 9.6 MB/s eta 0:00:01\r\u001b[K     |████████████████████████████    | 1.3 MB 9.6 MB/s eta 0:00:01\r\u001b[K     |████████████████████████████▏   | 1.3 MB 9.6 MB/s eta 0:00:01\r\u001b[K     |████████████████████████████▍   | 1.3 MB 9.6 MB/s eta 0:00:01\r\u001b[K     |████████████████████████████▋   | 1.3 MB 9.6 MB/s eta 0:00:01\r\u001b[K     |████████████████████████████▉   | 1.3 MB 9.6 MB/s eta 0:00:01\r\u001b[K     |█████████████████████████████   | 1.3 MB 9.6 MB/s eta 0:00:01\r\u001b[K     |█████████████████████████████▎  | 1.3 MB 9.6 MB/s eta 0:00:01\r\u001b[K     |█████████████████████████████▌  | 1.3 MB 9.6 MB/s eta 0:00:01\r\u001b[K     |█████████████████████████████▊  | 1.4 MB 9.6 MB/s eta 0:00:01\r\u001b[K     |██████████████████████████████  | 1.4 MB 9.6 MB/s eta 0:00:01\r\u001b[K     |██████████████████████████████▏ | 1.4 MB 9.6 MB/s eta 0:00:01\r\u001b[K     |██████████████████████████████▍ | 1.4 MB 9.6 MB/s eta 0:00:01\r\u001b[K     |██████████████████████████████▋ | 1.4 MB 9.6 MB/s eta 0:00:01\r\u001b[K     |██████████████████████████████▉ | 1.4 MB 9.6 MB/s eta 0:00:01\r\u001b[K     |███████████████████████████████ | 1.4 MB 9.6 MB/s eta 0:00:01\r\u001b[K     |███████████████████████████████▎| 1.4 MB 9.6 MB/s eta 0:00:01\r\u001b[K     |███████████████████████████████▌| 1.4 MB 9.6 MB/s eta 0:00:01\r\u001b[K     |███████████████████████████████▊| 1.4 MB 9.6 MB/s eta 0:00:01\r\u001b[K     |████████████████████████████████| 1.5 MB 9.6 MB/s eta 0:00:01\r\u001b[K     |████████████████████████████████| 1.5 MB 9.6 MB/s \n",
            "\u001b[?25hRequirement already satisfied: pandas>=0.19 in /usr/local/lib/python3.7/dist-packages (from pmdarima) (1.1.5)\n",
            "Requirement already satisfied: setuptools!=50.0.0,>=38.6.0 in /usr/local/lib/python3.7/dist-packages (from pmdarima) (57.2.0)\n",
            "Requirement already satisfied: urllib3 in /usr/local/lib/python3.7/dist-packages (from pmdarima) (1.24.3)\n",
            "Requirement already satisfied: scipy>=1.3.2 in /usr/local/lib/python3.7/dist-packages (from pmdarima) (1.4.1)\n",
            "Collecting statsmodels!=0.12.0,>=0.11\n",
            "  Downloading statsmodels-0.12.2-cp37-cp37m-manylinux1_x86_64.whl (9.5 MB)\n",
            "\u001b[K     |████████████████████████████████| 9.5 MB 17.5 MB/s \n",
            "\u001b[?25hRequirement already satisfied: scikit-learn>=0.22 in /usr/local/lib/python3.7/dist-packages (from pmdarima) (0.22.2.post1)\n",
            "Requirement already satisfied: joblib>=0.11 in /usr/local/lib/python3.7/dist-packages (from pmdarima) (1.0.1)\n",
            "Requirement already satisfied: numpy~=1.19.0 in /usr/local/lib/python3.7/dist-packages (from pmdarima) (1.19.5)\n",
            "Requirement already satisfied: Cython!=0.29.18,>=0.29 in /usr/local/lib/python3.7/dist-packages (from pmdarima) (0.29.23)\n",
            "Requirement already satisfied: pytz>=2017.2 in /usr/local/lib/python3.7/dist-packages (from pandas>=0.19->pmdarima) (2018.9)\n",
            "Requirement already satisfied: python-dateutil>=2.7.3 in /usr/local/lib/python3.7/dist-packages (from pandas>=0.19->pmdarima) (2.8.1)\n",
            "Requirement already satisfied: six>=1.5 in /usr/local/lib/python3.7/dist-packages (from python-dateutil>=2.7.3->pandas>=0.19->pmdarima) (1.15.0)\n",
            "Requirement already satisfied: patsy>=0.5 in /usr/local/lib/python3.7/dist-packages (from statsmodels!=0.12.0,>=0.11->pmdarima) (0.5.1)\n",
            "Installing collected packages: statsmodels, pmdarima\n",
            "  Attempting uninstall: statsmodels\n",
            "    Found existing installation: statsmodels 0.10.2\n",
            "    Uninstalling statsmodels-0.10.2:\n",
            "      Successfully uninstalled statsmodels-0.10.2\n",
            "Successfully installed pmdarima-1.8.2 statsmodels-0.12.2\n"
          ],
          "name": "stdout"
        },
        {
          "output_type": "display_data",
          "data": {
            "application/vnd.colab-display-data+json": {
              "pip_warning": {
                "packages": [
                  "statsmodels"
                ]
              }
            }
          },
          "metadata": {
            "tags": []
          }
        }
      ]
    },
    {
      "cell_type": "code",
      "metadata": {
        "colab": {
          "base_uri": "https://localhost:8080/"
        },
        "id": "5b8C9rHeiLab",
        "outputId": "1f52d269-ce04-4015-d97b-0770032f0bbf"
      },
      "source": [
        "from statsmodels.tsa.arima_model import ARIMA\n",
        "import statsmodels.api as sm\n",
        "from pmdarima import auto_arima\n",
        "\n",
        "stepwise_fit = auto_arima(ruby_train_df.dif.values, trace=True,\n",
        "suppress_warnings=True)"
      ],
      "execution_count": 8,
      "outputs": [
        {
          "output_type": "stream",
          "text": [
            "Performing stepwise search to minimize aic\n",
            " ARIMA(2,0,2)(0,0,0)[0] intercept   : AIC=inf, Time=0.23 sec\n",
            " ARIMA(0,0,0)(0,0,0)[0] intercept   : AIC=188.485, Time=0.01 sec\n",
            " ARIMA(1,0,0)(0,0,0)[0] intercept   : AIC=189.319, Time=0.11 sec\n",
            " ARIMA(0,0,1)(0,0,0)[0] intercept   : AIC=189.170, Time=0.05 sec\n",
            " ARIMA(0,0,0)(0,0,0)[0]             : AIC=227.341, Time=0.01 sec\n",
            " ARIMA(1,0,1)(0,0,0)[0] intercept   : AIC=191.169, Time=0.10 sec\n",
            "\n",
            "Best model:  ARIMA(0,0,0)(0,0,0)[0] intercept\n",
            "Total fit time: 0.531 seconds\n"
          ],
          "name": "stdout"
        }
      ]
    },
    {
      "cell_type": "code",
      "metadata": {
        "colab": {
          "base_uri": "https://localhost:8080/"
        },
        "id": "F9iCo2LpBAYP",
        "outputId": "143ff139-0048-42b0-c715-d942e26b77e2"
      },
      "source": [
        "# (AR = 2, 차분 =1, MA=2) 파라미터로 ARIMA 모델을 학습한다.\n",
        "model = ARIMA(ruby_train_df.dif.values, order = (0,0,1))"
      ],
      "execution_count": 15,
      "outputs": [
        {
          "output_type": "stream",
          "text": [
            "/usr/local/lib/python3.7/dist-packages/statsmodels/tsa/arima_model.py:472: FutureWarning: \n",
            "statsmodels.tsa.arima_model.ARMA and statsmodels.tsa.arima_model.ARIMA have\n",
            "been deprecated in favor of statsmodels.tsa.arima.model.ARIMA (note the .\n",
            "between arima and model) and\n",
            "statsmodels.tsa.SARIMAX. These will be removed after the 0.12 release.\n",
            "\n",
            "statsmodels.tsa.arima.model.ARIMA makes use of the statespace framework and\n",
            "is both well tested and maintained.\n",
            "\n",
            "To silence this warning and continue using ARMA and ARIMA until they are\n",
            "removed, use:\n",
            "\n",
            "import warnings\n",
            "warnings.filterwarnings('ignore', 'statsmodels.tsa.arima_model.ARMA',\n",
            "                        FutureWarning)\n",
            "warnings.filterwarnings('ignore', 'statsmodels.tsa.arima_model.ARIMA',\n",
            "                        FutureWarning)\n",
            "\n",
            "  warnings.warn(ARIMA_DEPRECATION_WARN, FutureWarning)\n"
          ],
          "name": "stderr"
        }
      ]
    },
    {
      "cell_type": "code",
      "metadata": {
        "id": "Sr_xDSQ8iRvh"
      },
      "source": [
        "model_fit = model.fit(trend = 'c', full_output = True, disp = True)"
      ],
      "execution_count": 16,
      "outputs": []
    },
    {
      "cell_type": "code",
      "metadata": {
        "colab": {
          "base_uri": "https://localhost:8080/"
        },
        "id": "FuGClGOLiesj",
        "outputId": "f49ca3ca-12be-4efa-db55-af8ba62cef9e"
      },
      "source": [
        "print(model_fit.summary())"
      ],
      "execution_count": 17,
      "outputs": [
        {
          "output_type": "stream",
          "text": [
            "                              ARMA Model Results                              \n",
            "==============================================================================\n",
            "Dep. Variable:                      y   No. Observations:                   21\n",
            "Model:                     ARMA(0, 1)   Log Likelihood                 -91.585\n",
            "Method:                       css-mle   S.D. of innovations             18.927\n",
            "Date:                Sat, 24 Jul 2021   AIC                            189.170\n",
            "Time:                        05:40:13   BIC                            192.304\n",
            "Sample:                             0   HQIC                           189.850\n",
            "                                                                              \n",
            "==============================================================================\n",
            "                 coef    std err          z      P>|z|      [0.025      0.975]\n",
            "------------------------------------------------------------------------------\n",
            "const         47.9432      5.151      9.308      0.000      37.848      58.038\n",
            "ma.L1.y        0.2592      0.205      1.267      0.205      -0.142       0.660\n",
            "                                    Roots                                    \n",
            "=============================================================================\n",
            "                  Real          Imaginary           Modulus         Frequency\n",
            "-----------------------------------------------------------------------------\n",
            "MA.1           -3.8585           +0.0000j            3.8585            0.5000\n",
            "-----------------------------------------------------------------------------\n"
          ],
          "name": "stdout"
        }
      ]
    },
    {
      "cell_type": "code",
      "metadata": {
        "colab": {
          "base_uri": "https://localhost:8080/",
          "height": 265
        },
        "id": "5AWMou0XkXE3",
        "outputId": "c18668d7-d7e8-479e-8755-af0cd6d9c8ba"
      },
      "source": [
        "# 학습 데이터에 대한 예측 결과\n",
        "fig = model_fit.plot_predict()"
      ],
      "execution_count": 18,
      "outputs": [
        {
          "output_type": "display_data",
          "data": {
            "image/png": "[encoded data removed]",
            "text/plain": [
              "<Figure size 432x288 with 1 Axes>"
            ]
          },
          "metadata": {
            "tags": [],
            "needs_background": "light"
          }
        }
      ]
    },
    {
      "cell_type": "code",
      "metadata": {
        "colab": {
          "base_uri": "https://localhost:8080/",
          "height": 282
        },
        "id": "QAp0t7TakZE-",
        "outputId": "c79bbeed-0a00-4d76-9fae-8a7b508e7b16"
      },
      "source": [
        "residuals = pd.DataFrame(model_fit.resid)\n",
        "residuals.plot()"
      ],
      "execution_count": 19,
      "outputs": [
        {
          "output_type": "execute_result",
          "data": {
            "text/plain": [
              "<matplotlib.axes._subplots.AxesSubplot at 0x7fea87897e50>"
            ]
          },
          "metadata": {
            "tags": []
          },
          "execution_count": 19
        },
        {
          "output_type": "display_data",
          "data": {
            "image/png": "[encoded data removed]",
            "text/plain": [
              "<Figure size 432x288 with 1 Axes>"
            ]
          },
          "metadata": {
            "tags": [],
            "needs_background": "light"
          }
        }
      ]
    },
    {
      "cell_type": "code",
      "metadata": {
        "id": "aFKby6q4kd0t"
      },
      "source": [
        "forecast_data = model_fit.forecast(steps=5)"
      ],
      "execution_count": 20,
      "outputs": []
    },
    {
      "cell_type": "code",
      "metadata": {
        "id": "Mz6uy6qxnnrs"
      },
      "source": [
        "# 마지막 5일의 예측 데이터\n",
        "pred_y = forecast_data[0].tolist()\n",
        "\n",
        "# 마지막 5일의 예측 데이터 최소값\n",
        "pred_y_lower = []\n",
        "# 마지막 5일의 예측 데이터 최대값\n",
        "pred_y_upper = []\n",
        "\n",
        "for lower_upper in forecast_data[2]:\n",
        "    lower = lower_upper[0]\n",
        "    upper = lower_upper[1]\n",
        "    pred_y_lower.append(lower)\n",
        "    pred_y_upper.append(upper)"
      ],
      "execution_count": 21,
      "outputs": []
    },
    {
      "cell_type": "code",
      "metadata": {
        "colab": {
          "base_uri": "https://localhost:8080/",
          "height": 286
        },
        "id": "Y9ms3Fe_ogEj",
        "outputId": "031d7102-204d-4bec-e9d0-db0a1b976d9c"
      },
      "source": [
        "# 모델이 예측한 가격 그래프\n",
        "plt.plot(pred_y, color = 'gold')\n",
        "\n",
        "# 모델이 예측한 최저 가격 그래프\n",
        "plt.plot(pred_y_lower, color = 'red')\n",
        "\n",
        "# 모델이 예측한 최고 가격 그래프\n",
        "plt.plot(pred_y_upper, color = 'blue')"
      ],
      "execution_count": 22,
      "outputs": [
        {
          "output_type": "execute_result",
          "data": {
            "text/plain": [
              "[<matplotlib.lines.Line2D at 0x7fea87753c90>]"
            ]
          },
          "metadata": {
            "tags": []
          },
          "execution_count": 22
        },
        {
          "output_type": "display_data",
          "data": {
            "image/png": "[encoded data removed]",
            "text/plain": [
              "<Figure size 432x288 with 1 Axes>"
            ]
          },
          "metadata": {
            "tags": [],
            "needs_background": "light"
          }
        }
      ]
    },
    {
      "cell_type": "code",
      "metadata": {
        "colab": {
          "base_uri": "https://localhost:8080/"
        },
        "id": "_7mWFF--13p7",
        "outputId": "b826f2f1-60bc-404b-80b9-176bbdbe9f54"
      },
      "source": [
        "pred_y"
      ],
      "execution_count": 23,
      "outputs": [
        {
          "output_type": "execute_result",
          "data": {
            "text/plain": [
              "[43.31872285082572,\n",
              " 47.943163112683614,\n",
              " 47.943163112683614,\n",
              " 47.943163112683614,\n",
              " 47.943163112683614]"
            ]
          },
          "metadata": {
            "tags": []
          },
          "execution_count": 23
        }
      ]
    },
    {
      "cell_type": "code",
      "metadata": {
        "id": "PxAzvW3S162K"
      },
      "source": [
        ""
      ],
      "execution_count": null,
      "outputs": []
    }
  ]
}